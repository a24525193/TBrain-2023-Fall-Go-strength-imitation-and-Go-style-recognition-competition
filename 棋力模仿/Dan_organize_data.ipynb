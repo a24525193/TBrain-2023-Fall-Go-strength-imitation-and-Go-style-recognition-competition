{
 "cells": [
  {
   "cell_type": "code",
   "execution_count": null,
   "metadata": {},
   "outputs": [],
   "source": [
    "# kernal = GOGO"
   ]
  },
  {
   "cell_type": "code",
   "execution_count": 1,
   "metadata": {},
   "outputs": [],
   "source": [
    "import pandas as pd\n",
    "import numpy as np\n",
    "import tensorflow as tf"
   ]
  },
  {
   "cell_type": "code",
   "execution_count": 2,
   "metadata": {},
   "outputs": [],
   "source": [
    "# train_data = pd.read_csv('Training Dataset/dan_train.csv', sep='delimiter',header=None)\n",
    "train_data = open('Training Dataset/dan_train.csv').read().splitlines()"
   ]
  },
  {
   "cell_type": "code",
   "execution_count": 3,
   "metadata": {},
   "outputs": [
    {
     "data": {
      "text/plain": [
       "'B,B[pq],W[qd],B[cp],W[dd],B[qo],W[eq],B[iq],W[cq],B[bq],W[br],B[dq],W[cr],B[dp],W[dr],B[bp],W[gq],B[cf],W[ce],B[df],W[ck],B[cm],W[ch],B[di],W[dh],B[ci],W[bi],B[bj],W[bg],B[ai],W[bh],B[cj],W[bf],B[dk],W[kc],B[ff],W[fd],B[oc],W[pc],B[od],W[qg],B[ic],W[ke],B[he],W[og],B[ld],W[kd],B[mf],W[kg],B[mh],W[ki],B[jf],W[kf],B[qe],W[re],B[pe],W[rc],B[mj],W[qj],B[pi],W[qi],B[ql],W[pk],B[lh],W[kh],B[fb],W[gc],B[gb],W[hc],B[hb],W[id],B[ed],W[ec],B[fc],W[ee],B[hd],W[gd],B[jd],W[ib],B[jc],W[jb],B[je],W[ef],B[lb],W[kb],B[ig],W[kq],B[mq],W[lq],B[mp],W[ko],B[io],W[km],B[ln],W[kn],B[ml],W[fn],B[im],W[kk],B[jl],W[kl],B[ii],W[lo],B[mo],W[lm],B[nm],W[mn],B[nn],W[ij],B[hj],W[ik],B[jj],W[jk],B[ji],W[gl],B[kj],W[el],B[fo],W[go],B[gn],W[fp],B[fm],W[hn],B[en],W[ho],B[hm],W[gm],B[hl],W[hk],B[gk],W[fl],B[in],W[fn],B[db],W[eb],B[gn],W[fk],B[gj],W[fn],B[ea],W[fa],B[gn],W[fj],B[fi],W[fn],B[ga],W[cb],B[gn],W[gi],B[hi],W[fn],B[dc],W[ed],B[gn],W[ei],B[gh],W[fn],B[cc],W[bb],B[gn],W[fh],B[ej],W[gi],B[hp],W[gp],B[fi],W[fn],B[eh],W[em],B[bc],W[ia],B[bd],W[ha],B[ab],W[ba],B[ad],W[da],B[ca],W[dn],B[da],W[fa],B[cn],W[rk],B[mr],W[lr],B[jr],W[hr],B[lp],W[kp],B[mm],W[hq],B[ip],W[ir],B[jq],W[ms],B[nr],W[ns],B[ks],W[ls],B[or],W[is]'"
      ]
     },
     "execution_count": 3,
     "metadata": {},
     "output_type": "execute_result"
    }
   ],
   "source": [
    "games = [i.split(',',1)[-1] for i in train_data]\n",
    "games[0]"
   ]
  },
  {
   "cell_type": "code",
   "execution_count": 10,
   "metadata": {},
   "outputs": [],
   "source": [
    "'''這裡~'''\n",
    "\n",
    "for idx , i in enumerate(games):\n",
    "    step_list = games[idx].split(',')\n",
    "    train_sgf_name = 'organize/Dan/SGF/Dan_train' + str(idx) + '.sgf'\n",
    "    f = open(train_sgf_name, 'w')\n",
    "    f.write('(;GM[1]FF[4]SZ[19]')\n",
    "    \n",
    "    #檢查最後一個是否相同\n",
    "    if step_list[0] != step_list[-1][0]:\n",
    "        step_list = step_list[:-1]\n",
    "    \n",
    "    #把第一步改成跟預測結果相同的顏色\n",
    "    if step_list[0] == step_list[1][0]:\n",
    "        for step in step_list[1:]:\n",
    "            f.write(';')\n",
    "            f.write(step)\n",
    "            \n",
    "    elif step_list[0] != step_list[1][0]:\n",
    "        for step in step_list[2:]:\n",
    "            f.write(';')\n",
    "            f.write(step)\n",
    "                \n",
    "    f.write(')')\n",
    "    f.close()    \n",
    "    \n",
    "    "
   ]
  },
  {
   "cell_type": "code",
   "execution_count": null,
   "metadata": {},
   "outputs": [],
   "source": []
  }
 ],
 "metadata": {
  "kernelspec": {
   "display_name": "GOGO",
   "language": "python",
   "name": "python3"
  },
  "language_info": {
   "codemirror_mode": {
    "name": "ipython",
    "version": 3
   },
   "file_extension": ".py",
   "mimetype": "text/x-python",
   "name": "python",
   "nbconvert_exporter": "python",
   "pygments_lexer": "ipython3",
   "version": "3.10.12"
  },
  "orig_nbformat": 4
 },
 "nbformat": 4,
 "nbformat_minor": 2
}
