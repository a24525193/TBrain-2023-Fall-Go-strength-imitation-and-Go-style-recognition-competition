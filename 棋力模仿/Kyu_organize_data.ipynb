{
 "cells": [
  {
   "cell_type": "code",
   "execution_count": null,
   "metadata": {},
   "outputs": [],
   "source": [
    "# kernal = GOGO"
   ]
  },
  {
   "cell_type": "code",
   "execution_count": 1,
   "metadata": {},
   "outputs": [],
   "source": [
    "import pandas as pd\n",
    "import numpy as np\n",
    "import tensorflow as tf"
   ]
  },
  {
   "cell_type": "code",
   "execution_count": 2,
   "metadata": {},
   "outputs": [],
   "source": [
    "# train_data = pd.read_csv('Training Dataset/dan_train.csv', sep='delimiter',header=None)\n",
    "train_data = open('Training Dataset/kyu_train.csv').read().splitlines()"
   ]
  },
  {
   "cell_type": "code",
   "execution_count": 3,
   "metadata": {},
   "outputs": [
    {
     "data": {
      "text/plain": [
       "'B,B[pd],W[dp],B[pq],W[dd],B[fq],W[nd],B[nc],W[mc],B[oc],W[md],B[qf],W[iq],B[cn],W[fp],B[cq],W[cp],B[dq],W[eq],B[er],W[ep],B[bp],W[fr],B[bo],W[dr],B[cr],W[es],B[dj],W[po],B[qo],W[pp],B[qp],W[oq],B[qq],W[np],B[pn],W[on],B[pm],W[om],B[cf],W[pl],B[ql],W[qm],B[qn],W[qk],B[rm],W[rl],B[qm],W[ok],B[fc],W[df],B[dg],W[ef],B[eg],W[ce],B[bf],W[fg],B[db],W[cc],B[cb],W[bb],B[ic],W[gd],B[gc],W[hd],B[hc],W[id],B[jd],W[je],B[kd],W[ke],B[qi],W[ld],B[fh],W[kc],B[jc],W[kb],B[jb],W[gh],B[fi],W[gi],B[km],W[fj],B[ej],W[fk],B[dl],W[em],B[kp],W[dm],B[cm],W[el],B[dk],W[lo],B[ko],W[ln],B[kn],W[lp],B[lm],W[kq],B[lj],W[jp],B[hn],W[io],B[in],W[go],B[hk],W[gk],B[hj],W[gj],B[ii],W[hl],B[il],W[hm],B[im],W[gn],B[lg],W[mi],B[li],W[mh],B[lh],W[mf],B[ig],W[hg],B[ih],W[if],B[rk],W[rj],B[sl],W[qj],B[ri],W[pi],B[ph],W[oh],B[pg],W[og],B[or],W[nr],B[os],W[ns],B[pr],W[jg],B[jh],W[mm],B[ml],W[nl],B[mk],W[nj],B[fd],W[fe],B[ac],W[bc],B[ae],W[ab],B[ad],W[ca],B[eb],W[da],B[ea],W[ba],B[gb],W[qc],B[qd],W[pc],B[od],W[rd],B[re],W[rb],B[sc],W[sd],B[pb],W[qb],B[ob],W[sb],B[se],W[rc],B[kg],W[jf],B[mg],W[ng],B[ne],W[nf],B[me],W[oe],B[pe],W[le],B[dn],W[en],B[ho],W[hp],B[jo],W[ip],B[sj],W[cs],B[bq],W[bs],B[pj],W[pk],B[oi],W[ni],B[nk],W[oj],B[pi],W[br],B[ed],W[ee],B[dc],W[cd],B[ka],W[la],B[ja],W[mb],B[qa],W[ra],B[pa],W[aq],B[ap],W[ar],B[co],W[do],B[bl],W[na],B[be],W[nb],B[pf],W[of],B[mj],W[ek],B[dh],W[hh],B[hi],W[ei],B[eh],W[bd],B[ch]'"
      ]
     },
     "execution_count": 3,
     "metadata": {},
     "output_type": "execute_result"
    }
   ],
   "source": [
    "games = [i.split(',',1)[-1] for i in train_data]\n",
    "games[0]"
   ]
  },
  {
   "cell_type": "code",
   "execution_count": 5,
   "metadata": {},
   "outputs": [],
   "source": [
    "'''這裡~'''\n",
    "\n",
    "for idx , i in enumerate(games):\n",
    "    step_list = games[idx].split(',')\n",
    "    train_sgf_name = 'organize/Kyu/SGF/Kyu_train' + str(idx) + '.sgf'\n",
    "    f = open(train_sgf_name, 'w')\n",
    "    f.write('(;GM[1]FF[4]SZ[19]')\n",
    "    \n",
    "    #檢查最後一個是否相同\n",
    "    if step_list[0] != step_list[-1][0]:\n",
    "        step_list = step_list[:-1]\n",
    "    \n",
    "    #把第一步改成跟預測結果相同的顏色\n",
    "    if step_list[0] == step_list[1][0]:\n",
    "        for step in step_list[1:]:\n",
    "            f.write(';')\n",
    "            f.write(step)\n",
    "            \n",
    "    elif step_list[0] != step_list[1][0]:\n",
    "        for step in step_list[2:]:\n",
    "            f.write(';')\n",
    "            f.write(step)\n",
    "                \n",
    "    f.write(')')\n",
    "    f.close()    \n",
    "    \n",
    "    "
   ]
  },
  {
   "cell_type": "code",
   "execution_count": null,
   "metadata": {},
   "outputs": [],
   "source": []
  }
 ],
 "metadata": {
  "kernelspec": {
   "display_name": "GOGO",
   "language": "python",
   "name": "python3"
  },
  "language_info": {
   "codemirror_mode": {
    "name": "ipython",
    "version": 3
   },
   "file_extension": ".py",
   "mimetype": "text/x-python",
   "name": "python",
   "nbconvert_exporter": "python",
   "pygments_lexer": "ipython3",
   "version": "3.10.12"
  },
  "orig_nbformat": 4
 },
 "nbformat": 4,
 "nbformat_minor": 2
}
