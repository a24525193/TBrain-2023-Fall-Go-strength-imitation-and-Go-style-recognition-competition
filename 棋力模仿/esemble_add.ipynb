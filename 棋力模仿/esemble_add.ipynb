{
 "cells": [
  {
   "cell_type": "code",
   "execution_count": 1,
   "metadata": {},
   "outputs": [
    {
     "name": "stdout",
     "output_type": "stream",
     "text": [
      "[PhysicalDevice(name='/physical_device:GPU:0', device_type='GPU')]\n"
     ]
    }
   ],
   "source": [
    "import tensorflow as tf\n",
    "\n",
    "print(tf.config.list_physical_devices('GPU'))"
   ]
  },
  {
   "cell_type": "code",
   "execution_count": 2,
   "metadata": {},
   "outputs": [],
   "source": [
    "import pandas as pd\n",
    "import numpy as np\n",
    "from tensorflow.keras.metrics import TopKCategoricalAccuracy\n",
    "import glob"
   ]
  },
  {
   "cell_type": "code",
   "execution_count": 3,
   "metadata": {},
   "outputs": [],
   "source": [
    "cfg = tf.compat.v1.ConfigProto() \n",
    "cfg.gpu_options.per_process_gpu_memory_fraction = 0.8 # 使用50%的GPU暫存  \n",
    "session = tf.compat.v1.Session(config=cfg )"
   ]
  },
  {
   "cell_type": "markdown",
   "metadata": {},
   "source": [
    "## 把預測結果集成"
   ]
  },
  {
   "cell_type": "code",
   "execution_count": 5,
   "metadata": {},
   "outputs": [],
   "source": [
    "submission_template = pd.read_csv('result/1128/sail_1128_reslut1.csv',header=None)"
   ]
  },
  {
   "cell_type": "code",
   "execution_count": 6,
   "metadata": {},
   "outputs": [],
   "source": [
    "chars = 'abcdefghijklmnopqrs'\n",
    "chartonumbers = {k:v for k,v in enumerate(chars)}\n",
    "\n",
    "def number_to_char(number):\n",
    "    number_1, number_2 = divmod(number, 19)\n",
    "    return chartonumbers[number_1] + chartonumbers[number_2]\n",
    "\n",
    "def top_5_preds_with_chars(predictions):\n",
    "    resulting_preds_numbers = [np.flip(np.argpartition(prediction, -5)[-5:]) for prediction in predictions]\n",
    "    resulting_preds_chars = np.vectorize(number_to_char)(resulting_preds_numbers)\n",
    "    return resulting_preds_chars"
   ]
  },
  {
   "cell_type": "code",
   "execution_count": 7,
   "metadata": {},
   "outputs": [
    {
     "data": {
      "text/plain": [
       "array([[  0,   1,   2,   3,   4,   5,   6,   7,   8,   9,  10,  11,  12,\n",
       "         13,  14,  15,  16,  17,  18],\n",
       "       [ 19,  20,  21,  22,  23,  24,  25,  26,  27,  28,  29,  30,  31,\n",
       "         32,  33,  34,  35,  36,  37],\n",
       "       [ 38,  39,  40,  41,  42,  43,  44,  45,  46,  47,  48,  49,  50,\n",
       "         51,  52,  53,  54,  55,  56],\n",
       "       [ 57,  58,  59,  60,  61,  62,  63,  64,  65,  66,  67,  68,  69,\n",
       "         70,  71,  72,  73,  74,  75],\n",
       "       [ 76,  77,  78,  79,  80,  81,  82,  83,  84,  85,  86,  87,  88,\n",
       "         89,  90,  91,  92,  93,  94],\n",
       "       [ 95,  96,  97,  98,  99, 100, 101, 102, 103, 104, 105, 106, 107,\n",
       "        108, 109, 110, 111, 112, 113],\n",
       "       [114, 115, 116, 117, 118, 119, 120, 121, 122, 123, 124, 125, 126,\n",
       "        127, 128, 129, 130, 131, 132],\n",
       "       [133, 134, 135, 136, 137, 138, 139, 140, 141, 142, 143, 144, 145,\n",
       "        146, 147, 148, 149, 150, 151],\n",
       "       [152, 153, 154, 155, 156, 157, 158, 159, 160, 161, 162, 163, 164,\n",
       "        165, 166, 167, 168, 169, 170],\n",
       "       [171, 172, 173, 174, 175, 176, 177, 178, 179, 180, 181, 182, 183,\n",
       "        184, 185, 186, 187, 188, 189],\n",
       "       [190, 191, 192, 193, 194, 195, 196, 197, 198, 199, 200, 201, 202,\n",
       "        203, 204, 205, 206, 207, 208],\n",
       "       [209, 210, 211, 212, 213, 214, 215, 216, 217, 218, 219, 220, 221,\n",
       "        222, 223, 224, 225, 226, 227],\n",
       "       [228, 229, 230, 231, 232, 233, 234, 235, 236, 237, 238, 239, 240,\n",
       "        241, 242, 243, 244, 245, 246],\n",
       "       [247, 248, 249, 250, 251, 252, 253, 254, 255, 256, 257, 258, 259,\n",
       "        260, 261, 262, 263, 264, 265],\n",
       "       [266, 267, 268, 269, 270, 271, 272, 273, 274, 275, 276, 277, 278,\n",
       "        279, 280, 281, 282, 283, 284],\n",
       "       [285, 286, 287, 288, 289, 290, 291, 292, 293, 294, 295, 296, 297,\n",
       "        298, 299, 300, 301, 302, 303],\n",
       "       [304, 305, 306, 307, 308, 309, 310, 311, 312, 313, 314, 315, 316,\n",
       "        317, 318, 319, 320, 321, 322],\n",
       "       [323, 324, 325, 326, 327, 328, 329, 330, 331, 332, 333, 334, 335,\n",
       "        336, 337, 338, 339, 340, 341],\n",
       "       [342, 343, 344, 345, 346, 347, 348, 349, 350, 351, 352, 353, 354,\n",
       "        355, 356, 357, 358, 359, 360]])"
      ]
     },
     "execution_count": 7,
     "metadata": {},
     "output_type": "execute_result"
    }
   ],
   "source": [
    "my_list = list(range(361))\n",
    "reshaped_array = np.reshape(np.array(my_list), (19, 19))\n",
    "reshaped_array"
   ]
  },
  {
   "cell_type": "code",
   "execution_count": null,
   "metadata": {},
   "outputs": [],
   "source": []
  },
  {
   "cell_type": "markdown",
   "metadata": {},
   "source": [
    "### public dan"
   ]
  },
  {
   "cell_type": "code",
   "execution_count": 9,
   "metadata": {},
   "outputs": [
    {
     "data": {
      "text/plain": [
       "['E:/research/AIcup_GO/PrivateData/weight/Public_weight_NPZ/Dan/training_Dan_1125_newf10_batch300000_incep_attention(concat)_loss.npz',\n",
       " 'E:/research/AIcup_GO/PrivateData/weight/Public_weight_NPZ/Dan/training_Dan_1123_newf18_batch100000_uptodown_top1.npz']"
      ]
     },
     "execution_count": 9,
     "metadata": {},
     "output_type": "execute_result"
    }
   ],
   "source": [
    "#last1\n",
    "npz_path = 'E:/research/AIcup_GO/PrivateData/weight/Public_weight_NPZ/Dan/'\n",
    "npz_path_list =[\n",
    "    # npz_path +'',\n",
    "    npz_path +'training_Dan_1125_newf10_batch300000_incep_attention(concat)_loss.npz',\n",
    "    npz_path +'training_Dan_1123_newf18_batch100000_uptodown_top1.npz']\n",
    "\n",
    "npz_path_list"
   ]
  },
  {
   "cell_type": "code",
   "execution_count": 10,
   "metadata": {},
   "outputs": [
    {
     "data": {
      "text/plain": [
       "(11000, 19, 19)"
      ]
     },
     "execution_count": 10,
     "metadata": {},
     "output_type": "execute_result"
    }
   ],
   "source": [
    "all_add = np.zeros((11000,19,19), dtype=float)\n",
    "for path in npz_path_list:\n",
    "    loaded_data = np.load(path)\n",
    "    predict = loaded_data['predictions']\n",
    "    \n",
    "    all_add  += predict\n",
    "\n",
    "all_add.shape      "
   ]
  },
  {
   "cell_type": "code",
   "execution_count": 11,
   "metadata": {},
   "outputs": [
    {
     "data": {
      "text/plain": [
       "(11000, 361)"
      ]
     },
     "execution_count": 11,
     "metadata": {},
     "output_type": "execute_result"
    }
   ],
   "source": [
    "all_add = all_add.reshape((-1,361))\n",
    "all_add.shape  "
   ]
  },
  {
   "cell_type": "code",
   "execution_count": 12,
   "metadata": {},
   "outputs": [
    {
     "name": "stdout",
     "output_type": "stream",
     "text": [
      "Top1 Predicted Indices:  [220 239 104 ... 178 140 236]\n",
      "Top5 Predicted Indices:  [[256 219 221 237 220]\n",
      " [107 220 294 275 239]\n",
      " [ 70  67 218  68 104]\n",
      " ...\n",
      " [335 255 334  30 178]\n",
      " [173 141 158 121 140]\n",
      " [214 233 237 196 236]]\n"
     ]
    }
   ],
   "source": [
    "# 對於每一個預測結果，找出分數最高的 top1 和 top5 的索引\n",
    "top1_indices = np.argmax(all_add, axis=-1)\n",
    "top5_indices = np.argsort(all_add, axis=-1)[:, -5:]\n",
    "\n",
    "# 輸出 top1 和 top5 的預測結果\n",
    "print(\"Top1 Predicted Indices: \", top1_indices)\n",
    "print(\"Top5 Predicted Indices: \", top5_indices)"
   ]
  },
  {
   "cell_type": "code",
   "execution_count": 13,
   "metadata": {},
   "outputs": [],
   "source": [
    "chars = 'abcdefghijklmnopqrs'\n",
    "answer = np.full((11000, 5), \"\", dtype=object)\n",
    "for i  in range(len(top1_indices)):\n",
    "    for j in range(1,6):\n",
    "        num = top5_indices[i][j*(-1)] \n",
    "        indices = np.where(reshaped_array == num)\n",
    "        answer[i][j-1] = chars[int(indices[1])]  + chars[int(indices[0])] \n",
    "        "
   ]
  },
  {
   "cell_type": "code",
   "execution_count": 14,
   "metadata": {},
   "outputs": [
    {
     "data": {
      "text/plain": [
       "array([['ll', 'jm', 'ml', 'kl', 'jn'],\n",
       "       ['lm', 'jo', 'jp', 'll', 'mf'],\n",
       "       ['jf', 'ld', 'jl', 'kd', 'nd'],\n",
       "       ...,\n",
       "       ['hj', 'lb', 'lr', 'in', 'mr'],\n",
       "       ['hh', 'hg', 'gi', 'ih', 'cj'],\n",
       "       ['im', 'gk', 'jm', 'fm', 'fl']], dtype='<U2')"
      ]
     },
     "execution_count": 14,
     "metadata": {},
     "output_type": "execute_result"
    }
   ],
   "source": [
    "answer = answer.astype('<U2')\n",
    "answer"
   ]
  },
  {
   "cell_type": "code",
   "execution_count": null,
   "metadata": {},
   "outputs": [],
   "source": []
  },
  {
   "cell_type": "code",
   "execution_count": 15,
   "metadata": {},
   "outputs": [
    {
     "data": {
      "text/plain": [
       "'KTPU0000011340'"
      ]
     },
     "execution_count": 15,
     "metadata": {},
     "output_type": "execute_result"
    }
   ],
   "source": [
    "submission_template.iloc[11339][0]"
   ]
  },
  {
   "cell_type": "code",
   "execution_count": 16,
   "metadata": {},
   "outputs": [
    {
     "data": {
      "text/html": [
       "<div>\n",
       "<style scoped>\n",
       "    .dataframe tbody tr th:only-of-type {\n",
       "        vertical-align: middle;\n",
       "    }\n",
       "\n",
       "    .dataframe tbody tr th {\n",
       "        vertical-align: top;\n",
       "    }\n",
       "\n",
       "    .dataframe thead th {\n",
       "        text-align: right;\n",
       "    }\n",
       "</style>\n",
       "<table border=\"1\" class=\"dataframe\">\n",
       "  <thead>\n",
       "    <tr style=\"text-align: right;\">\n",
       "      <th></th>\n",
       "      <th>0</th>\n",
       "      <th>1</th>\n",
       "      <th>2</th>\n",
       "      <th>3</th>\n",
       "      <th>4</th>\n",
       "      <th>5</th>\n",
       "    </tr>\n",
       "  </thead>\n",
       "  <tbody>\n",
       "    <tr>\n",
       "      <th>11338</th>\n",
       "      <td>KTPU0000011339</td>\n",
       "      <td>aa</td>\n",
       "      <td>bb</td>\n",
       "      <td>cc</td>\n",
       "      <td>dd</td>\n",
       "      <td>ee</td>\n",
       "    </tr>\n",
       "    <tr>\n",
       "      <th>11339</th>\n",
       "      <td>KTPU0000011340</td>\n",
       "      <td>aa</td>\n",
       "      <td>bb</td>\n",
       "      <td>cc</td>\n",
       "      <td>dd</td>\n",
       "      <td>ee</td>\n",
       "    </tr>\n",
       "    <tr>\n",
       "      <th>11340</th>\n",
       "      <td>DTPU0000000001</td>\n",
       "      <td>aa</td>\n",
       "      <td>bb</td>\n",
       "      <td>cc</td>\n",
       "      <td>dd</td>\n",
       "      <td>ee</td>\n",
       "    </tr>\n",
       "    <tr>\n",
       "      <th>11341</th>\n",
       "      <td>DTPU0000000002</td>\n",
       "      <td>aa</td>\n",
       "      <td>bb</td>\n",
       "      <td>cc</td>\n",
       "      <td>dd</td>\n",
       "      <td>ee</td>\n",
       "    </tr>\n",
       "    <tr>\n",
       "      <th>11342</th>\n",
       "      <td>DTPU0000000003</td>\n",
       "      <td>aa</td>\n",
       "      <td>bb</td>\n",
       "      <td>cc</td>\n",
       "      <td>dd</td>\n",
       "      <td>ee</td>\n",
       "    </tr>\n",
       "    <tr>\n",
       "      <th>11343</th>\n",
       "      <td>DTPU0000000004</td>\n",
       "      <td>aa</td>\n",
       "      <td>bb</td>\n",
       "      <td>cc</td>\n",
       "      <td>dd</td>\n",
       "      <td>ee</td>\n",
       "    </tr>\n",
       "    <tr>\n",
       "      <th>11344</th>\n",
       "      <td>DTPU0000000005</td>\n",
       "      <td>aa</td>\n",
       "      <td>bb</td>\n",
       "      <td>cc</td>\n",
       "      <td>dd</td>\n",
       "      <td>ee</td>\n",
       "    </tr>\n",
       "    <tr>\n",
       "      <th>11345</th>\n",
       "      <td>DTPU0000000006</td>\n",
       "      <td>aa</td>\n",
       "      <td>bb</td>\n",
       "      <td>cc</td>\n",
       "      <td>dd</td>\n",
       "      <td>ee</td>\n",
       "    </tr>\n",
       "    <tr>\n",
       "      <th>11346</th>\n",
       "      <td>DTPU0000000007</td>\n",
       "      <td>aa</td>\n",
       "      <td>bb</td>\n",
       "      <td>cc</td>\n",
       "      <td>dd</td>\n",
       "      <td>ee</td>\n",
       "    </tr>\n",
       "    <tr>\n",
       "      <th>11347</th>\n",
       "      <td>DTPU0000000008</td>\n",
       "      <td>aa</td>\n",
       "      <td>bb</td>\n",
       "      <td>cc</td>\n",
       "      <td>dd</td>\n",
       "      <td>ee</td>\n",
       "    </tr>\n",
       "    <tr>\n",
       "      <th>11348</th>\n",
       "      <td>DTPU0000000009</td>\n",
       "      <td>aa</td>\n",
       "      <td>bb</td>\n",
       "      <td>cc</td>\n",
       "      <td>dd</td>\n",
       "      <td>ee</td>\n",
       "    </tr>\n",
       "    <tr>\n",
       "      <th>11349</th>\n",
       "      <td>DTPU0000000010</td>\n",
       "      <td>aa</td>\n",
       "      <td>bb</td>\n",
       "      <td>cc</td>\n",
       "      <td>dd</td>\n",
       "      <td>ee</td>\n",
       "    </tr>\n",
       "  </tbody>\n",
       "</table>\n",
       "</div>"
      ],
      "text/plain": [
       "                    0   1   2   3   4   5\n",
       "11338  KTPU0000011339  aa  bb  cc  dd  ee\n",
       "11339  KTPU0000011340  aa  bb  cc  dd  ee\n",
       "11340  DTPU0000000001  aa  bb  cc  dd  ee\n",
       "11341  DTPU0000000002  aa  bb  cc  dd  ee\n",
       "11342  DTPU0000000003  aa  bb  cc  dd  ee\n",
       "11343  DTPU0000000004  aa  bb  cc  dd  ee\n",
       "11344  DTPU0000000005  aa  bb  cc  dd  ee\n",
       "11345  DTPU0000000006  aa  bb  cc  dd  ee\n",
       "11346  DTPU0000000007  aa  bb  cc  dd  ee\n",
       "11347  DTPU0000000008  aa  bb  cc  dd  ee\n",
       "11348  DTPU0000000009  aa  bb  cc  dd  ee\n",
       "11349  DTPU0000000010  aa  bb  cc  dd  ee"
      ]
     },
     "execution_count": 16,
     "metadata": {},
     "output_type": "execute_result"
    }
   ],
   "source": [
    "submission_template.iloc[11338:11350]"
   ]
  },
  {
   "cell_type": "code",
   "execution_count": 17,
   "metadata": {},
   "outputs": [],
   "source": [
    "for i in range(len(answer)):\n",
    "    for a in range(0,5):\n",
    "        submission_template.iloc[11340 + i][a+1] = answer[i][a]"
   ]
  },
  {
   "cell_type": "code",
   "execution_count": 18,
   "metadata": {},
   "outputs": [
    {
     "data": {
      "text/html": [
       "<div>\n",
       "<style scoped>\n",
       "    .dataframe tbody tr th:only-of-type {\n",
       "        vertical-align: middle;\n",
       "    }\n",
       "\n",
       "    .dataframe tbody tr th {\n",
       "        vertical-align: top;\n",
       "    }\n",
       "\n",
       "    .dataframe thead th {\n",
       "        text-align: right;\n",
       "    }\n",
       "</style>\n",
       "<table border=\"1\" class=\"dataframe\">\n",
       "  <thead>\n",
       "    <tr style=\"text-align: right;\">\n",
       "      <th></th>\n",
       "      <th>0</th>\n",
       "      <th>1</th>\n",
       "      <th>2</th>\n",
       "      <th>3</th>\n",
       "      <th>4</th>\n",
       "      <th>5</th>\n",
       "    </tr>\n",
       "  </thead>\n",
       "  <tbody>\n",
       "    <tr>\n",
       "      <th>11338</th>\n",
       "      <td>KTPU0000011339</td>\n",
       "      <td>aa</td>\n",
       "      <td>bb</td>\n",
       "      <td>cc</td>\n",
       "      <td>dd</td>\n",
       "      <td>ee</td>\n",
       "    </tr>\n",
       "    <tr>\n",
       "      <th>11339</th>\n",
       "      <td>KTPU0000011340</td>\n",
       "      <td>aa</td>\n",
       "      <td>bb</td>\n",
       "      <td>cc</td>\n",
       "      <td>dd</td>\n",
       "      <td>ee</td>\n",
       "    </tr>\n",
       "    <tr>\n",
       "      <th>11340</th>\n",
       "      <td>DTPU0000000001</td>\n",
       "      <td>ll</td>\n",
       "      <td>jm</td>\n",
       "      <td>ml</td>\n",
       "      <td>kl</td>\n",
       "      <td>jn</td>\n",
       "    </tr>\n",
       "    <tr>\n",
       "      <th>11341</th>\n",
       "      <td>DTPU0000000002</td>\n",
       "      <td>lm</td>\n",
       "      <td>jo</td>\n",
       "      <td>jp</td>\n",
       "      <td>ll</td>\n",
       "      <td>mf</td>\n",
       "    </tr>\n",
       "    <tr>\n",
       "      <th>11342</th>\n",
       "      <td>DTPU0000000003</td>\n",
       "      <td>jf</td>\n",
       "      <td>ld</td>\n",
       "      <td>jl</td>\n",
       "      <td>kd</td>\n",
       "      <td>nd</td>\n",
       "    </tr>\n",
       "    <tr>\n",
       "      <th>11343</th>\n",
       "      <td>DTPU0000000004</td>\n",
       "      <td>no</td>\n",
       "      <td>bd</td>\n",
       "      <td>qm</td>\n",
       "      <td>rk</td>\n",
       "      <td>sj</td>\n",
       "    </tr>\n",
       "    <tr>\n",
       "      <th>11344</th>\n",
       "      <td>DTPU0000000005</td>\n",
       "      <td>nc</td>\n",
       "      <td>ec</td>\n",
       "      <td>fq</td>\n",
       "      <td>nd</td>\n",
       "      <td>ed</td>\n",
       "    </tr>\n",
       "    <tr>\n",
       "      <th>11345</th>\n",
       "      <td>DTPU0000000006</td>\n",
       "      <td>ke</td>\n",
       "      <td>kf</td>\n",
       "      <td>je</td>\n",
       "      <td>kd</td>\n",
       "      <td>le</td>\n",
       "    </tr>\n",
       "    <tr>\n",
       "      <th>11346</th>\n",
       "      <td>DTPU0000000007</td>\n",
       "      <td>lq</td>\n",
       "      <td>mq</td>\n",
       "      <td>hq</td>\n",
       "      <td>fq</td>\n",
       "      <td>gq</td>\n",
       "    </tr>\n",
       "    <tr>\n",
       "      <th>11347</th>\n",
       "      <td>DTPU0000000008</td>\n",
       "      <td>hq</td>\n",
       "      <td>jq</td>\n",
       "      <td>kp</td>\n",
       "      <td>lp</td>\n",
       "      <td>hr</td>\n",
       "    </tr>\n",
       "    <tr>\n",
       "      <th>11348</th>\n",
       "      <td>DTPU0000000009</td>\n",
       "      <td>hl</td>\n",
       "      <td>il</td>\n",
       "      <td>kk</td>\n",
       "      <td>ok</td>\n",
       "      <td>jm</td>\n",
       "    </tr>\n",
       "    <tr>\n",
       "      <th>11349</th>\n",
       "      <td>DTPU0000000010</td>\n",
       "      <td>pd</td>\n",
       "      <td>pc</td>\n",
       "      <td>qd</td>\n",
       "      <td>qc</td>\n",
       "      <td>qk</td>\n",
       "    </tr>\n",
       "  </tbody>\n",
       "</table>\n",
       "</div>"
      ],
      "text/plain": [
       "                    0   1   2   3   4   5\n",
       "11338  KTPU0000011339  aa  bb  cc  dd  ee\n",
       "11339  KTPU0000011340  aa  bb  cc  dd  ee\n",
       "11340  DTPU0000000001  ll  jm  ml  kl  jn\n",
       "11341  DTPU0000000002  lm  jo  jp  ll  mf\n",
       "11342  DTPU0000000003  jf  ld  jl  kd  nd\n",
       "11343  DTPU0000000004  no  bd  qm  rk  sj\n",
       "11344  DTPU0000000005  nc  ec  fq  nd  ed\n",
       "11345  DTPU0000000006  ke  kf  je  kd  le\n",
       "11346  DTPU0000000007  lq  mq  hq  fq  gq\n",
       "11347  DTPU0000000008  hq  jq  kp  lp  hr\n",
       "11348  DTPU0000000009  hl  il  kk  ok  jm\n",
       "11349  DTPU0000000010  pd  pc  qd  qc  qk"
      ]
     },
     "execution_count": 18,
     "metadata": {},
     "output_type": "execute_result"
    }
   ],
   "source": [
    "submission_template.iloc[11338:11350]"
   ]
  },
  {
   "cell_type": "code",
   "execution_count": 19,
   "metadata": {},
   "outputs": [
    {
     "data": {
      "text/html": [
       "<div>\n",
       "<style scoped>\n",
       "    .dataframe tbody tr th:only-of-type {\n",
       "        vertical-align: middle;\n",
       "    }\n",
       "\n",
       "    .dataframe tbody tr th {\n",
       "        vertical-align: top;\n",
       "    }\n",
       "\n",
       "    .dataframe thead th {\n",
       "        text-align: right;\n",
       "    }\n",
       "</style>\n",
       "<table border=\"1\" class=\"dataframe\">\n",
       "  <thead>\n",
       "    <tr style=\"text-align: right;\">\n",
       "      <th></th>\n",
       "      <th>0</th>\n",
       "      <th>1</th>\n",
       "      <th>2</th>\n",
       "      <th>3</th>\n",
       "      <th>4</th>\n",
       "      <th>5</th>\n",
       "    </tr>\n",
       "  </thead>\n",
       "  <tbody>\n",
       "    <tr>\n",
       "      <th>22338</th>\n",
       "      <td>DTPU0000010999</td>\n",
       "      <td>hh</td>\n",
       "      <td>hg</td>\n",
       "      <td>gi</td>\n",
       "      <td>ih</td>\n",
       "      <td>cj</td>\n",
       "    </tr>\n",
       "    <tr>\n",
       "      <th>22339</th>\n",
       "      <td>DTPU0000011000</td>\n",
       "      <td>im</td>\n",
       "      <td>gk</td>\n",
       "      <td>jm</td>\n",
       "      <td>fm</td>\n",
       "      <td>fl</td>\n",
       "    </tr>\n",
       "    <tr>\n",
       "      <th>22340</th>\n",
       "      <td>PSTPU0000000001_99</td>\n",
       "      <td>1</td>\n",
       "      <td>NaN</td>\n",
       "      <td>NaN</td>\n",
       "      <td>NaN</td>\n",
       "      <td>NaN</td>\n",
       "    </tr>\n",
       "    <tr>\n",
       "      <th>22341</th>\n",
       "      <td>PSTPU0000000001_153</td>\n",
       "      <td>1</td>\n",
       "      <td>NaN</td>\n",
       "      <td>NaN</td>\n",
       "      <td>NaN</td>\n",
       "      <td>NaN</td>\n",
       "    </tr>\n",
       "    <tr>\n",
       "      <th>22342</th>\n",
       "      <td>PSTPU0000000001_131</td>\n",
       "      <td>1</td>\n",
       "      <td>NaN</td>\n",
       "      <td>NaN</td>\n",
       "      <td>NaN</td>\n",
       "      <td>NaN</td>\n",
       "    </tr>\n",
       "    <tr>\n",
       "      <th>22343</th>\n",
       "      <td>PSTPU0000000001_21</td>\n",
       "      <td>2</td>\n",
       "      <td>NaN</td>\n",
       "      <td>NaN</td>\n",
       "      <td>NaN</td>\n",
       "      <td>NaN</td>\n",
       "    </tr>\n",
       "    <tr>\n",
       "      <th>22344</th>\n",
       "      <td>PSTPU0000000001_79</td>\n",
       "      <td>1</td>\n",
       "      <td>NaN</td>\n",
       "      <td>NaN</td>\n",
       "      <td>NaN</td>\n",
       "      <td>NaN</td>\n",
       "    </tr>\n",
       "    <tr>\n",
       "      <th>22345</th>\n",
       "      <td>PSTPU0000000001_7</td>\n",
       "      <td>1</td>\n",
       "      <td>NaN</td>\n",
       "      <td>NaN</td>\n",
       "      <td>NaN</td>\n",
       "      <td>NaN</td>\n",
       "    </tr>\n",
       "    <tr>\n",
       "      <th>22346</th>\n",
       "      <td>PSTPU0000000001_19</td>\n",
       "      <td>2</td>\n",
       "      <td>NaN</td>\n",
       "      <td>NaN</td>\n",
       "      <td>NaN</td>\n",
       "      <td>NaN</td>\n",
       "    </tr>\n",
       "    <tr>\n",
       "      <th>22347</th>\n",
       "      <td>PSTPU0000000001_55</td>\n",
       "      <td>3</td>\n",
       "      <td>NaN</td>\n",
       "      <td>NaN</td>\n",
       "      <td>NaN</td>\n",
       "      <td>NaN</td>\n",
       "    </tr>\n",
       "    <tr>\n",
       "      <th>22348</th>\n",
       "      <td>PSTPU0000000001_115</td>\n",
       "      <td>1</td>\n",
       "      <td>NaN</td>\n",
       "      <td>NaN</td>\n",
       "      <td>NaN</td>\n",
       "      <td>NaN</td>\n",
       "    </tr>\n",
       "    <tr>\n",
       "      <th>22349</th>\n",
       "      <td>PSTPU0000000001_105</td>\n",
       "      <td>1</td>\n",
       "      <td>NaN</td>\n",
       "      <td>NaN</td>\n",
       "      <td>NaN</td>\n",
       "      <td>NaN</td>\n",
       "    </tr>\n",
       "  </tbody>\n",
       "</table>\n",
       "</div>"
      ],
      "text/plain": [
       "                         0   1    2    3    4    5\n",
       "22338       DTPU0000010999  hh   hg   gi   ih   cj\n",
       "22339       DTPU0000011000  im   gk   jm   fm   fl\n",
       "22340   PSTPU0000000001_99   1  NaN  NaN  NaN  NaN\n",
       "22341  PSTPU0000000001_153   1  NaN  NaN  NaN  NaN\n",
       "22342  PSTPU0000000001_131   1  NaN  NaN  NaN  NaN\n",
       "22343   PSTPU0000000001_21   2  NaN  NaN  NaN  NaN\n",
       "22344   PSTPU0000000001_79   1  NaN  NaN  NaN  NaN\n",
       "22345    PSTPU0000000001_7   1  NaN  NaN  NaN  NaN\n",
       "22346   PSTPU0000000001_19   2  NaN  NaN  NaN  NaN\n",
       "22347   PSTPU0000000001_55   3  NaN  NaN  NaN  NaN\n",
       "22348  PSTPU0000000001_115   1  NaN  NaN  NaN  NaN\n",
       "22349  PSTPU0000000001_105   1  NaN  NaN  NaN  NaN"
      ]
     },
     "execution_count": 19,
     "metadata": {},
     "output_type": "execute_result"
    }
   ],
   "source": [
    "submission_template.iloc[22338:22350]"
   ]
  },
  {
   "cell_type": "code",
   "execution_count": null,
   "metadata": {},
   "outputs": [],
   "source": []
  },
  {
   "cell_type": "markdown",
   "metadata": {},
   "source": [
    "### public kyu"
   ]
  },
  {
   "cell_type": "code",
   "execution_count": 21,
   "metadata": {},
   "outputs": [
    {
     "data": {
      "text/plain": [
       "['E:/research/AIcup_GO/PrivateData/weight/Public_weight_NPZ/Kyu/training_Kyu_1127_newf10_batch400000_incep_atten_top1_2.npz',\n",
       " 'E:/research/AIcup_GO/PrivateData/weight/Public_weight_NPZ/Kyu/training_Kyu_1121_newf18_incep_attention(concat)_top1.npz']"
      ]
     },
     "execution_count": 21,
     "metadata": {},
     "output_type": "execute_result"
    }
   ],
   "source": [
    "#last1\n",
    "npz_path = 'E:/research/AIcup_GO/PrivateData/weight/Public_weight_NPZ/Kyu/'\n",
    "npz_path_list =[\n",
    "    # npz_path +'',\n",
    "    npz_path +'training_Kyu_1127_newf10_batch400000_incep_atten_top1_2.npz',\n",
    "    npz_path +'training_Kyu_1121_newf18_incep_attention(concat)_top1.npz']\n",
    "\n",
    "npz_path_list"
   ]
  },
  {
   "cell_type": "code",
   "execution_count": 22,
   "metadata": {},
   "outputs": [],
   "source": [
    "# npz_path = 'E:/research/AIcup_GO/PrivateData/weight/Public_weight_NPZ/Kyu/'\n",
    "# # npz_path_list = glob.glob(npz_path)\n",
    "# npz_path_list =[\n",
    "# npz_path +'training_Dan_1010_inceptionblock2_loss.npz' ,\n",
    "# npz_path + 'training_Kyu_1121_newf18_incep_attention(concat)_top1.npz',\n",
    "# npz_path +'training_Kyu_1121_newf18_incep_uptodown_top1.npz',\n",
    "# npz_path+ 'training_Dan_1125_newf10_batch300000_incep_attention(concat)_top1.npz']\n",
    "# # npz_path_list.pop(2)\n",
    "# npz_path_list"
   ]
  },
  {
   "cell_type": "code",
   "execution_count": 23,
   "metadata": {},
   "outputs": [
    {
     "name": "stdout",
     "output_type": "stream",
     "text": [
      "(11340, 19, 19)\n",
      "(11340, 19, 19)\n"
     ]
    },
    {
     "data": {
      "text/plain": [
       "(11340, 19, 19)"
      ]
     },
     "execution_count": 23,
     "metadata": {},
     "output_type": "execute_result"
    }
   ],
   "source": [
    "all_add = np.zeros((11340,19,19), dtype=float)\n",
    "for path in npz_path_list:\n",
    "    loaded_data = np.load(path)\n",
    "    predict = loaded_data['predictions']\n",
    "    print(predict.shape)\n",
    "    all_add  += predict\n",
    "\n",
    "all_add.shape      "
   ]
  },
  {
   "cell_type": "code",
   "execution_count": null,
   "metadata": {},
   "outputs": [],
   "source": []
  },
  {
   "cell_type": "code",
   "execution_count": 24,
   "metadata": {},
   "outputs": [
    {
     "data": {
      "text/plain": [
       "(11340, 361)"
      ]
     },
     "execution_count": 24,
     "metadata": {},
     "output_type": "execute_result"
    }
   ],
   "source": [
    "all_add = all_add.reshape((-1,361))\n",
    "all_add.shape  "
   ]
  },
  {
   "cell_type": "code",
   "execution_count": 25,
   "metadata": {},
   "outputs": [
    {
     "name": "stdout",
     "output_type": "stream",
     "text": [
      "Top1 Predicted Indices:  [ 13 284 231 ... 212 183  39]\n",
      "Top5 Predicted Indices:  [[ 14  11  33  32  13]\n",
      " [307 226 354 242 284]\n",
      " [249 230 325 268 231]\n",
      " ...\n",
      " [ 97 311 191 210 212]\n",
      " [189 239 208  11 183]\n",
      " [ 64  59  46  45  39]]\n"
     ]
    }
   ],
   "source": [
    "# 對於每一個預測結果，找出分數最高的 top1 和 top5 的索引\n",
    "top1_indices = np.argmax(all_add, axis=-1)\n",
    "top5_indices = np.argsort(all_add, axis=-1)[:, -5:]\n",
    "\n",
    "# 輸出 top1 和 top5 的預測結果\n",
    "print(\"Top1 Predicted Indices: \", top1_indices)\n",
    "print(\"Top5 Predicted Indices: \", top5_indices)"
   ]
  },
  {
   "cell_type": "code",
   "execution_count": 26,
   "metadata": {},
   "outputs": [],
   "source": [
    "answer = np.full((11340, 5), \"\", dtype=object)\n",
    "for i  in range(len(top1_indices)):\n",
    "    for j in range(1,6):\n",
    "        num = top5_indices[i][j*(-1)] \n",
    "        indices = np.where(reshaped_array == num)\n",
    "        answer[i][j-1] = chars[int(indices[1])]  + chars[int(indices[0])] \n",
    "        "
   ]
  },
  {
   "cell_type": "code",
   "execution_count": 27,
   "metadata": {},
   "outputs": [
    {
     "data": {
      "text/plain": [
       "array([['na', 'nb', 'ob', 'la', 'oa'],\n",
       "       ['so', 'om', 'ms', 'rl', 'dq'],\n",
       "       ['dm', 'co', 'cr', 'cm', 'cn'],\n",
       "       ...,\n",
       "       ['dl', 'bl', 'bk', 'hq', 'cf'],\n",
       "       ['mj', 'la', 'sk', 'lm', 'sj'],\n",
       "       ['bc', 'hc', 'ic', 'cd', 'hd']], dtype='<U2')"
      ]
     },
     "execution_count": 27,
     "metadata": {},
     "output_type": "execute_result"
    }
   ],
   "source": [
    "answer = answer.astype('<U2')\n",
    "answer"
   ]
  },
  {
   "cell_type": "code",
   "execution_count": 28,
   "metadata": {},
   "outputs": [
    {
     "data": {
      "text/html": [
       "<div>\n",
       "<style scoped>\n",
       "    .dataframe tbody tr th:only-of-type {\n",
       "        vertical-align: middle;\n",
       "    }\n",
       "\n",
       "    .dataframe tbody tr th {\n",
       "        vertical-align: top;\n",
       "    }\n",
       "\n",
       "    .dataframe thead th {\n",
       "        text-align: right;\n",
       "    }\n",
       "</style>\n",
       "<table border=\"1\" class=\"dataframe\">\n",
       "  <thead>\n",
       "    <tr style=\"text-align: right;\">\n",
       "      <th></th>\n",
       "      <th>0</th>\n",
       "      <th>1</th>\n",
       "      <th>2</th>\n",
       "      <th>3</th>\n",
       "      <th>4</th>\n",
       "      <th>5</th>\n",
       "    </tr>\n",
       "  </thead>\n",
       "  <tbody>\n",
       "    <tr>\n",
       "      <th>0</th>\n",
       "      <td>KTPU0000000001</td>\n",
       "      <td>aa</td>\n",
       "      <td>bb</td>\n",
       "      <td>cc</td>\n",
       "      <td>dd</td>\n",
       "      <td>ee</td>\n",
       "    </tr>\n",
       "    <tr>\n",
       "      <th>1</th>\n",
       "      <td>KTPU0000000002</td>\n",
       "      <td>aa</td>\n",
       "      <td>bb</td>\n",
       "      <td>cc</td>\n",
       "      <td>dd</td>\n",
       "      <td>ee</td>\n",
       "    </tr>\n",
       "    <tr>\n",
       "      <th>2</th>\n",
       "      <td>KTPU0000000003</td>\n",
       "      <td>aa</td>\n",
       "      <td>bb</td>\n",
       "      <td>cc</td>\n",
       "      <td>dd</td>\n",
       "      <td>ee</td>\n",
       "    </tr>\n",
       "    <tr>\n",
       "      <th>3</th>\n",
       "      <td>KTPU0000000004</td>\n",
       "      <td>aa</td>\n",
       "      <td>bb</td>\n",
       "      <td>cc</td>\n",
       "      <td>dd</td>\n",
       "      <td>ee</td>\n",
       "    </tr>\n",
       "    <tr>\n",
       "      <th>4</th>\n",
       "      <td>KTPU0000000005</td>\n",
       "      <td>aa</td>\n",
       "      <td>bb</td>\n",
       "      <td>cc</td>\n",
       "      <td>dd</td>\n",
       "      <td>ee</td>\n",
       "    </tr>\n",
       "  </tbody>\n",
       "</table>\n",
       "</div>"
      ],
      "text/plain": [
       "                0   1   2   3   4   5\n",
       "0  KTPU0000000001  aa  bb  cc  dd  ee\n",
       "1  KTPU0000000002  aa  bb  cc  dd  ee\n",
       "2  KTPU0000000003  aa  bb  cc  dd  ee\n",
       "3  KTPU0000000004  aa  bb  cc  dd  ee\n",
       "4  KTPU0000000005  aa  bb  cc  dd  ee"
      ]
     },
     "execution_count": 28,
     "metadata": {},
     "output_type": "execute_result"
    }
   ],
   "source": [
    "submission_template.head()"
   ]
  },
  {
   "cell_type": "code",
   "execution_count": 29,
   "metadata": {},
   "outputs": [],
   "source": [
    "for i in range(len(answer)):\n",
    "    for a in range(0,5):\n",
    "        submission_template.iloc[i][a+1] = answer[i][a]"
   ]
  },
  {
   "cell_type": "code",
   "execution_count": 30,
   "metadata": {},
   "outputs": [
    {
     "data": {
      "text/html": [
       "<div>\n",
       "<style scoped>\n",
       "    .dataframe tbody tr th:only-of-type {\n",
       "        vertical-align: middle;\n",
       "    }\n",
       "\n",
       "    .dataframe tbody tr th {\n",
       "        vertical-align: top;\n",
       "    }\n",
       "\n",
       "    .dataframe thead th {\n",
       "        text-align: right;\n",
       "    }\n",
       "</style>\n",
       "<table border=\"1\" class=\"dataframe\">\n",
       "  <thead>\n",
       "    <tr style=\"text-align: right;\">\n",
       "      <th></th>\n",
       "      <th>0</th>\n",
       "      <th>1</th>\n",
       "      <th>2</th>\n",
       "      <th>3</th>\n",
       "      <th>4</th>\n",
       "      <th>5</th>\n",
       "    </tr>\n",
       "  </thead>\n",
       "  <tbody>\n",
       "    <tr>\n",
       "      <th>0</th>\n",
       "      <td>KTPU0000000001</td>\n",
       "      <td>na</td>\n",
       "      <td>nb</td>\n",
       "      <td>ob</td>\n",
       "      <td>la</td>\n",
       "      <td>oa</td>\n",
       "    </tr>\n",
       "    <tr>\n",
       "      <th>1</th>\n",
       "      <td>KTPU0000000002</td>\n",
       "      <td>so</td>\n",
       "      <td>om</td>\n",
       "      <td>ms</td>\n",
       "      <td>rl</td>\n",
       "      <td>dq</td>\n",
       "    </tr>\n",
       "    <tr>\n",
       "      <th>2</th>\n",
       "      <td>KTPU0000000003</td>\n",
       "      <td>dm</td>\n",
       "      <td>co</td>\n",
       "      <td>cr</td>\n",
       "      <td>cm</td>\n",
       "      <td>cn</td>\n",
       "    </tr>\n",
       "    <tr>\n",
       "      <th>3</th>\n",
       "      <td>KTPU0000000004</td>\n",
       "      <td>fr</td>\n",
       "      <td>gs</td>\n",
       "      <td>ck</td>\n",
       "      <td>fk</td>\n",
       "      <td>fj</td>\n",
       "    </tr>\n",
       "    <tr>\n",
       "      <th>4</th>\n",
       "      <td>KTPU0000000005</td>\n",
       "      <td>jc</td>\n",
       "      <td>gb</td>\n",
       "      <td>jb</td>\n",
       "      <td>kb</td>\n",
       "      <td>gc</td>\n",
       "    </tr>\n",
       "  </tbody>\n",
       "</table>\n",
       "</div>"
      ],
      "text/plain": [
       "                0   1   2   3   4   5\n",
       "0  KTPU0000000001  na  nb  ob  la  oa\n",
       "1  KTPU0000000002  so  om  ms  rl  dq\n",
       "2  KTPU0000000003  dm  co  cr  cm  cn\n",
       "3  KTPU0000000004  fr  gs  ck  fk  fj\n",
       "4  KTPU0000000005  jc  gb  jb  kb  gc"
      ]
     },
     "execution_count": 30,
     "metadata": {},
     "output_type": "execute_result"
    }
   ],
   "source": [
    "submission_template.head()"
   ]
  },
  {
   "cell_type": "code",
   "execution_count": null,
   "metadata": {},
   "outputs": [],
   "source": []
  },
  {
   "cell_type": "markdown",
   "metadata": {},
   "source": [
    "### private dan"
   ]
  },
  {
   "cell_type": "code",
   "execution_count": 32,
   "metadata": {},
   "outputs": [
    {
     "data": {
      "text/plain": [
       "['E:/research/AIcup_GO/PrivateData/weight/Dan/predict_NPZ/training_Dan_1125_newf10_batch300000_incep_attention(concat)_loss.npz',\n",
       " 'E:/research/AIcup_GO/PrivateData/weight/Dan/predict_NPZ/training_Dan_1123_newf18_batch100000_uptodown_top1.npz']"
      ]
     },
     "execution_count": 32,
     "metadata": {},
     "output_type": "execute_result"
    }
   ],
   "source": [
    "#last1\n",
    "npz_path = 'E:/research/AIcup_GO/PrivateData/weight/Dan/predict_NPZ/'\n",
    "npz_path_list =[\n",
    "    # npz_path +'',\n",
    "    npz_path +'training_Dan_1125_newf10_batch300000_incep_attention(concat)_loss.npz',\n",
    "    npz_path +'training_Dan_1123_newf18_batch100000_uptodown_top1.npz']\n",
    "\n",
    "npz_path_list"
   ]
  },
  {
   "cell_type": "code",
   "execution_count": 33,
   "metadata": {},
   "outputs": [
    {
     "name": "stdout",
     "output_type": "stream",
     "text": [
      "(11000, 19, 19)\n",
      "(11000, 19, 19)\n"
     ]
    },
    {
     "data": {
      "text/plain": [
       "(11000, 19, 19)"
      ]
     },
     "execution_count": 33,
     "metadata": {},
     "output_type": "execute_result"
    }
   ],
   "source": [
    "all_add = np.zeros((11000,19,19), dtype=float)\n",
    "for path in npz_path_list:\n",
    "    loaded_data = np.load(path)\n",
    "    predict = loaded_data['predictions']\n",
    "    print(predict.shape)\n",
    "    all_add  += predict\n",
    "\n",
    "all_add.shape      "
   ]
  },
  {
   "cell_type": "code",
   "execution_count": 34,
   "metadata": {},
   "outputs": [
    {
     "data": {
      "text/plain": [
       "(11000, 361)"
      ]
     },
     "execution_count": 34,
     "metadata": {},
     "output_type": "execute_result"
    }
   ],
   "source": [
    "all_add = all_add.reshape((-1,361))\n",
    "all_add.shape  "
   ]
  },
  {
   "cell_type": "code",
   "execution_count": 35,
   "metadata": {},
   "outputs": [
    {
     "name": "stdout",
     "output_type": "stream",
     "text": [
      "Top1 Predicted Indices:  [258 190 202 ...  55 154 183]\n",
      "Top5 Predicted Indices:  [[221 359 292 278 258]\n",
      " [209 152 210 191 190]\n",
      " [140 184 124 121 202]\n",
      " ...\n",
      " [309 168 109  73  55]\n",
      " [305 155 286 330 154]\n",
      " [141 160 165 184 183]]\n"
     ]
    }
   ],
   "source": [
    "# 對於每一個預測結果，找出分數最高的 top1 和 top5 的索引\n",
    "top1_indices = np.argmax(all_add, axis=-1)\n",
    "top5_indices = np.argsort(all_add, axis=-1)[:, -5:]\n",
    "\n",
    "# 輸出 top1 和 top5 的預測結果\n",
    "print(\"Top1 Predicted Indices: \", top1_indices)\n",
    "print(\"Top5 Predicted Indices: \", top5_indices)"
   ]
  },
  {
   "cell_type": "code",
   "execution_count": 36,
   "metadata": {},
   "outputs": [],
   "source": [
    "answer = np.full((11000, 5), \"\", dtype=object)\n",
    "for i  in range(len(top1_indices)):\n",
    "    for j in range(1,6):\n",
    "        num = top5_indices[i][j*(-1)] \n",
    "        indices = np.where(reshaped_array == num)\n",
    "        answer[i][j-1] = chars[int(indices[1])]  + chars[int(indices[0])] \n",
    "        "
   ]
  },
  {
   "cell_type": "code",
   "execution_count": 37,
   "metadata": {},
   "outputs": [
    {
     "data": {
      "text/plain": [
       "array([['ln', 'mo', 'hp', 'rs', 'ml'],\n",
       "       ['ak', 'bk', 'bl', 'ai', 'al'],\n",
       "       ['mk', 'hg', 'kg', 'nj', 'hh'],\n",
       "       ...,\n",
       "       ['rc', 'qd', 'of', 'qi', 'fq'],\n",
       "       ['ci', 'hr', 'bp', 'di', 'bq'],\n",
       "       ['mj', 'nj', 'ni', 'ii', 'ih']], dtype='<U2')"
      ]
     },
     "execution_count": 37,
     "metadata": {},
     "output_type": "execute_result"
    }
   ],
   "source": [
    "answer = answer.astype('<U2')\n",
    "answer"
   ]
  },
  {
   "cell_type": "code",
   "execution_count": 38,
   "metadata": {},
   "outputs": [
    {
     "data": {
      "text/html": [
       "<div>\n",
       "<style scoped>\n",
       "    .dataframe tbody tr th:only-of-type {\n",
       "        vertical-align: middle;\n",
       "    }\n",
       "\n",
       "    .dataframe tbody tr th {\n",
       "        vertical-align: top;\n",
       "    }\n",
       "\n",
       "    .dataframe thead th {\n",
       "        text-align: right;\n",
       "    }\n",
       "</style>\n",
       "<table border=\"1\" class=\"dataframe\">\n",
       "  <thead>\n",
       "    <tr style=\"text-align: right;\">\n",
       "      <th></th>\n",
       "      <th>0</th>\n",
       "      <th>1</th>\n",
       "      <th>2</th>\n",
       "      <th>3</th>\n",
       "      <th>4</th>\n",
       "      <th>5</th>\n",
       "    </tr>\n",
       "  </thead>\n",
       "  <tbody>\n",
       "    <tr>\n",
       "      <th>43671</th>\n",
       "      <td>KTPR0000011336</td>\n",
       "      <td>aa</td>\n",
       "      <td>bb</td>\n",
       "      <td>cc</td>\n",
       "      <td>dd</td>\n",
       "      <td>ee</td>\n",
       "    </tr>\n",
       "    <tr>\n",
       "      <th>43672</th>\n",
       "      <td>KTPR0000011337</td>\n",
       "      <td>aa</td>\n",
       "      <td>bb</td>\n",
       "      <td>cc</td>\n",
       "      <td>dd</td>\n",
       "      <td>ee</td>\n",
       "    </tr>\n",
       "    <tr>\n",
       "      <th>43673</th>\n",
       "      <td>KTPR0000011338</td>\n",
       "      <td>aa</td>\n",
       "      <td>bb</td>\n",
       "      <td>cc</td>\n",
       "      <td>dd</td>\n",
       "      <td>ee</td>\n",
       "    </tr>\n",
       "    <tr>\n",
       "      <th>43674</th>\n",
       "      <td>KTPR0000011339</td>\n",
       "      <td>aa</td>\n",
       "      <td>bb</td>\n",
       "      <td>cc</td>\n",
       "      <td>dd</td>\n",
       "      <td>ee</td>\n",
       "    </tr>\n",
       "    <tr>\n",
       "      <th>43675</th>\n",
       "      <td>KTPR0000011340</td>\n",
       "      <td>aa</td>\n",
       "      <td>bb</td>\n",
       "      <td>cc</td>\n",
       "      <td>dd</td>\n",
       "      <td>ee</td>\n",
       "    </tr>\n",
       "    <tr>\n",
       "      <th>43676</th>\n",
       "      <td>DTPR0000000001</td>\n",
       "      <td>aa</td>\n",
       "      <td>bb</td>\n",
       "      <td>cc</td>\n",
       "      <td>dd</td>\n",
       "      <td>ee</td>\n",
       "    </tr>\n",
       "    <tr>\n",
       "      <th>43677</th>\n",
       "      <td>DTPR0000000002</td>\n",
       "      <td>aa</td>\n",
       "      <td>bb</td>\n",
       "      <td>cc</td>\n",
       "      <td>dd</td>\n",
       "      <td>ee</td>\n",
       "    </tr>\n",
       "    <tr>\n",
       "      <th>43678</th>\n",
       "      <td>DTPR0000000003</td>\n",
       "      <td>aa</td>\n",
       "      <td>bb</td>\n",
       "      <td>cc</td>\n",
       "      <td>dd</td>\n",
       "      <td>ee</td>\n",
       "    </tr>\n",
       "    <tr>\n",
       "      <th>43679</th>\n",
       "      <td>DTPR0000000004</td>\n",
       "      <td>aa</td>\n",
       "      <td>bb</td>\n",
       "      <td>cc</td>\n",
       "      <td>dd</td>\n",
       "      <td>ee</td>\n",
       "    </tr>\n",
       "    <tr>\n",
       "      <th>43680</th>\n",
       "      <td>DTPR0000000005</td>\n",
       "      <td>aa</td>\n",
       "      <td>bb</td>\n",
       "      <td>cc</td>\n",
       "      <td>dd</td>\n",
       "      <td>ee</td>\n",
       "    </tr>\n",
       "  </tbody>\n",
       "</table>\n",
       "</div>"
      ],
      "text/plain": [
       "                    0   1   2   3   4   5\n",
       "43671  KTPR0000011336  aa  bb  cc  dd  ee\n",
       "43672  KTPR0000011337  aa  bb  cc  dd  ee\n",
       "43673  KTPR0000011338  aa  bb  cc  dd  ee\n",
       "43674  KTPR0000011339  aa  bb  cc  dd  ee\n",
       "43675  KTPR0000011340  aa  bb  cc  dd  ee\n",
       "43676  DTPR0000000001  aa  bb  cc  dd  ee\n",
       "43677  DTPR0000000002  aa  bb  cc  dd  ee\n",
       "43678  DTPR0000000003  aa  bb  cc  dd  ee\n",
       "43679  DTPR0000000004  aa  bb  cc  dd  ee\n",
       "43680  DTPR0000000005  aa  bb  cc  dd  ee"
      ]
     },
     "execution_count": 38,
     "metadata": {},
     "output_type": "execute_result"
    }
   ],
   "source": [
    "submission_template.iloc[43671:43671+10]"
   ]
  },
  {
   "cell_type": "code",
   "execution_count": 39,
   "metadata": {},
   "outputs": [],
   "source": [
    "for i in range(len(answer)):\n",
    "    for a in range(0,5):\n",
    "        submission_template.iloc[43676 + i][a+1] = answer[i][a]"
   ]
  },
  {
   "cell_type": "code",
   "execution_count": 40,
   "metadata": {},
   "outputs": [
    {
     "data": {
      "text/html": [
       "<div>\n",
       "<style scoped>\n",
       "    .dataframe tbody tr th:only-of-type {\n",
       "        vertical-align: middle;\n",
       "    }\n",
       "\n",
       "    .dataframe tbody tr th {\n",
       "        vertical-align: top;\n",
       "    }\n",
       "\n",
       "    .dataframe thead th {\n",
       "        text-align: right;\n",
       "    }\n",
       "</style>\n",
       "<table border=\"1\" class=\"dataframe\">\n",
       "  <thead>\n",
       "    <tr style=\"text-align: right;\">\n",
       "      <th></th>\n",
       "      <th>0</th>\n",
       "      <th>1</th>\n",
       "      <th>2</th>\n",
       "      <th>3</th>\n",
       "      <th>4</th>\n",
       "      <th>5</th>\n",
       "    </tr>\n",
       "  </thead>\n",
       "  <tbody>\n",
       "    <tr>\n",
       "      <th>43671</th>\n",
       "      <td>KTPR0000011336</td>\n",
       "      <td>aa</td>\n",
       "      <td>bb</td>\n",
       "      <td>cc</td>\n",
       "      <td>dd</td>\n",
       "      <td>ee</td>\n",
       "    </tr>\n",
       "    <tr>\n",
       "      <th>43672</th>\n",
       "      <td>KTPR0000011337</td>\n",
       "      <td>aa</td>\n",
       "      <td>bb</td>\n",
       "      <td>cc</td>\n",
       "      <td>dd</td>\n",
       "      <td>ee</td>\n",
       "    </tr>\n",
       "    <tr>\n",
       "      <th>43673</th>\n",
       "      <td>KTPR0000011338</td>\n",
       "      <td>aa</td>\n",
       "      <td>bb</td>\n",
       "      <td>cc</td>\n",
       "      <td>dd</td>\n",
       "      <td>ee</td>\n",
       "    </tr>\n",
       "    <tr>\n",
       "      <th>43674</th>\n",
       "      <td>KTPR0000011339</td>\n",
       "      <td>aa</td>\n",
       "      <td>bb</td>\n",
       "      <td>cc</td>\n",
       "      <td>dd</td>\n",
       "      <td>ee</td>\n",
       "    </tr>\n",
       "    <tr>\n",
       "      <th>43675</th>\n",
       "      <td>KTPR0000011340</td>\n",
       "      <td>aa</td>\n",
       "      <td>bb</td>\n",
       "      <td>cc</td>\n",
       "      <td>dd</td>\n",
       "      <td>ee</td>\n",
       "    </tr>\n",
       "    <tr>\n",
       "      <th>43676</th>\n",
       "      <td>DTPR0000000001</td>\n",
       "      <td>ln</td>\n",
       "      <td>mo</td>\n",
       "      <td>hp</td>\n",
       "      <td>rs</td>\n",
       "      <td>ml</td>\n",
       "    </tr>\n",
       "    <tr>\n",
       "      <th>43677</th>\n",
       "      <td>DTPR0000000002</td>\n",
       "      <td>ak</td>\n",
       "      <td>bk</td>\n",
       "      <td>bl</td>\n",
       "      <td>ai</td>\n",
       "      <td>al</td>\n",
       "    </tr>\n",
       "    <tr>\n",
       "      <th>43678</th>\n",
       "      <td>DTPR0000000003</td>\n",
       "      <td>mk</td>\n",
       "      <td>hg</td>\n",
       "      <td>kg</td>\n",
       "      <td>nj</td>\n",
       "      <td>hh</td>\n",
       "    </tr>\n",
       "    <tr>\n",
       "      <th>43679</th>\n",
       "      <td>DTPR0000000004</td>\n",
       "      <td>ik</td>\n",
       "      <td>rh</td>\n",
       "      <td>nb</td>\n",
       "      <td>es</td>\n",
       "      <td>kh</td>\n",
       "    </tr>\n",
       "    <tr>\n",
       "      <th>43680</th>\n",
       "      <td>DTPR0000000005</td>\n",
       "      <td>sd</td>\n",
       "      <td>pi</td>\n",
       "      <td>pj</td>\n",
       "      <td>sh</td>\n",
       "      <td>pb</td>\n",
       "    </tr>\n",
       "  </tbody>\n",
       "</table>\n",
       "</div>"
      ],
      "text/plain": [
       "                    0   1   2   3   4   5\n",
       "43671  KTPR0000011336  aa  bb  cc  dd  ee\n",
       "43672  KTPR0000011337  aa  bb  cc  dd  ee\n",
       "43673  KTPR0000011338  aa  bb  cc  dd  ee\n",
       "43674  KTPR0000011339  aa  bb  cc  dd  ee\n",
       "43675  KTPR0000011340  aa  bb  cc  dd  ee\n",
       "43676  DTPR0000000001  ln  mo  hp  rs  ml\n",
       "43677  DTPR0000000002  ak  bk  bl  ai  al\n",
       "43678  DTPR0000000003  mk  hg  kg  nj  hh\n",
       "43679  DTPR0000000004  ik  rh  nb  es  kh\n",
       "43680  DTPR0000000005  sd  pi  pj  sh  pb"
      ]
     },
     "execution_count": 40,
     "metadata": {},
     "output_type": "execute_result"
    }
   ],
   "source": [
    "submission_template.iloc[43671:43671+10]"
   ]
  },
  {
   "cell_type": "code",
   "execution_count": 41,
   "metadata": {},
   "outputs": [
    {
     "data": {
      "text/html": [
       "<div>\n",
       "<style scoped>\n",
       "    .dataframe tbody tr th:only-of-type {\n",
       "        vertical-align: middle;\n",
       "    }\n",
       "\n",
       "    .dataframe tbody tr th {\n",
       "        vertical-align: top;\n",
       "    }\n",
       "\n",
       "    .dataframe thead th {\n",
       "        text-align: right;\n",
       "    }\n",
       "</style>\n",
       "<table border=\"1\" class=\"dataframe\">\n",
       "  <thead>\n",
       "    <tr style=\"text-align: right;\">\n",
       "      <th></th>\n",
       "      <th>0</th>\n",
       "      <th>1</th>\n",
       "      <th>2</th>\n",
       "      <th>3</th>\n",
       "      <th>4</th>\n",
       "      <th>5</th>\n",
       "    </tr>\n",
       "  </thead>\n",
       "  <tbody>\n",
       "    <tr>\n",
       "      <th>54674</th>\n",
       "      <td>DTPR0000010999</td>\n",
       "      <td>ci</td>\n",
       "      <td>hr</td>\n",
       "      <td>bp</td>\n",
       "      <td>di</td>\n",
       "      <td>bq</td>\n",
       "    </tr>\n",
       "    <tr>\n",
       "      <th>54675</th>\n",
       "      <td>DTPR0000011000</td>\n",
       "      <td>mj</td>\n",
       "      <td>nj</td>\n",
       "      <td>ni</td>\n",
       "      <td>ii</td>\n",
       "      <td>ih</td>\n",
       "    </tr>\n",
       "    <tr>\n",
       "      <th>54676</th>\n",
       "      <td>PSTPR0000000001_127</td>\n",
       "      <td>1</td>\n",
       "      <td>NaN</td>\n",
       "      <td>NaN</td>\n",
       "      <td>NaN</td>\n",
       "      <td>NaN</td>\n",
       "    </tr>\n",
       "    <tr>\n",
       "      <th>54677</th>\n",
       "      <td>PSTPR0000000001_11</td>\n",
       "      <td>3</td>\n",
       "      <td>NaN</td>\n",
       "      <td>NaN</td>\n",
       "      <td>NaN</td>\n",
       "      <td>NaN</td>\n",
       "    </tr>\n",
       "    <tr>\n",
       "      <th>54678</th>\n",
       "      <td>PSTPR0000000001_79</td>\n",
       "      <td>2</td>\n",
       "      <td>NaN</td>\n",
       "      <td>NaN</td>\n",
       "      <td>NaN</td>\n",
       "      <td>NaN</td>\n",
       "    </tr>\n",
       "    <tr>\n",
       "      <th>54679</th>\n",
       "      <td>PSTPR0000000001_55</td>\n",
       "      <td>2</td>\n",
       "      <td>NaN</td>\n",
       "      <td>NaN</td>\n",
       "      <td>NaN</td>\n",
       "      <td>NaN</td>\n",
       "    </tr>\n",
       "    <tr>\n",
       "      <th>54680</th>\n",
       "      <td>PSTPR0000000001_43</td>\n",
       "      <td>1</td>\n",
       "      <td>NaN</td>\n",
       "      <td>NaN</td>\n",
       "      <td>NaN</td>\n",
       "      <td>NaN</td>\n",
       "    </tr>\n",
       "    <tr>\n",
       "      <th>54681</th>\n",
       "      <td>PSTPR0000000001_21</td>\n",
       "      <td>1</td>\n",
       "      <td>NaN</td>\n",
       "      <td>NaN</td>\n",
       "      <td>NaN</td>\n",
       "      <td>NaN</td>\n",
       "    </tr>\n",
       "    <tr>\n",
       "      <th>54682</th>\n",
       "      <td>PSTPR0000000001_39</td>\n",
       "      <td>2</td>\n",
       "      <td>NaN</td>\n",
       "      <td>NaN</td>\n",
       "      <td>NaN</td>\n",
       "      <td>NaN</td>\n",
       "    </tr>\n",
       "    <tr>\n",
       "      <th>54683</th>\n",
       "      <td>PSTPR0000000001_93</td>\n",
       "      <td>1</td>\n",
       "      <td>NaN</td>\n",
       "      <td>NaN</td>\n",
       "      <td>NaN</td>\n",
       "      <td>NaN</td>\n",
       "    </tr>\n",
       "  </tbody>\n",
       "</table>\n",
       "</div>"
      ],
      "text/plain": [
       "                         0   1    2    3    4    5\n",
       "54674       DTPR0000010999  ci   hr   bp   di   bq\n",
       "54675       DTPR0000011000  mj   nj   ni   ii   ih\n",
       "54676  PSTPR0000000001_127   1  NaN  NaN  NaN  NaN\n",
       "54677   PSTPR0000000001_11   3  NaN  NaN  NaN  NaN\n",
       "54678   PSTPR0000000001_79   2  NaN  NaN  NaN  NaN\n",
       "54679   PSTPR0000000001_55   2  NaN  NaN  NaN  NaN\n",
       "54680   PSTPR0000000001_43   1  NaN  NaN  NaN  NaN\n",
       "54681   PSTPR0000000001_21   1  NaN  NaN  NaN  NaN\n",
       "54682   PSTPR0000000001_39   2  NaN  NaN  NaN  NaN\n",
       "54683   PSTPR0000000001_93   1  NaN  NaN  NaN  NaN"
      ]
     },
     "execution_count": 41,
     "metadata": {},
     "output_type": "execute_result"
    }
   ],
   "source": [
    "submission_template.iloc[54674:54674+10]"
   ]
  },
  {
   "cell_type": "code",
   "execution_count": null,
   "metadata": {},
   "outputs": [],
   "source": []
  },
  {
   "cell_type": "markdown",
   "metadata": {},
   "source": [
    "### private kyu"
   ]
  },
  {
   "cell_type": "code",
   "execution_count": 43,
   "metadata": {},
   "outputs": [
    {
     "data": {
      "text/plain": [
       "['E:/research/AIcup_GO/PrivateData/weight/Kyu/predict_NPZ/training_Kyu_1127_newf10_batch400000_incep_atten_top1_2.npz',\n",
       " 'E:/research/AIcup_GO/PrivateData/weight/Kyu/predict_NPZ/training_Kyu_1121_newf18_incep_attention(concat)_top1.npz']"
      ]
     },
     "execution_count": 43,
     "metadata": {},
     "output_type": "execute_result"
    }
   ],
   "source": [
    "#last\n",
    "npz_path = 'E:/research/AIcup_GO/PrivateData/weight/Kyu/predict_NPZ/'\n",
    "npz_path_list =[\n",
    "    # npz_path +'',\n",
    "    npz_path +'training_Kyu_1127_newf10_batch400000_incep_atten_top1_2.npz',\n",
    "    npz_path +'training_Kyu_1121_newf18_incep_attention(concat)_top1.npz']\n",
    "\n",
    "npz_path_list"
   ]
  },
  {
   "cell_type": "code",
   "execution_count": 44,
   "metadata": {},
   "outputs": [
    {
     "name": "stdout",
     "output_type": "stream",
     "text": [
      "(11340, 19, 19)\n",
      "(11340, 19, 19)\n"
     ]
    },
    {
     "data": {
      "text/plain": [
       "(11340, 19, 19)"
      ]
     },
     "execution_count": 44,
     "metadata": {},
     "output_type": "execute_result"
    }
   ],
   "source": [
    "all_add = np.zeros((11340,19,19), dtype=float)\n",
    "for path in npz_path_list:\n",
    "    loaded_data = np.load(path)\n",
    "    predict = loaded_data['predictions']\n",
    "    print(predict.shape)\n",
    "    all_add  += predict\n",
    "\n",
    "all_add.shape      "
   ]
  },
  {
   "cell_type": "code",
   "execution_count": 45,
   "metadata": {},
   "outputs": [
    {
     "data": {
      "text/plain": [
       "(11340, 361)"
      ]
     },
     "execution_count": 45,
     "metadata": {},
     "output_type": "execute_result"
    }
   ],
   "source": [
    "all_add = all_add.reshape((-1,361))\n",
    "all_add.shape  "
   ]
  },
  {
   "cell_type": "code",
   "execution_count": 46,
   "metadata": {},
   "outputs": [
    {
     "name": "stdout",
     "output_type": "stream",
     "text": [
      "Top1 Predicted Indices:  [ 39 109  23 ... 168 103 163]\n",
      "Top5 Predicted Indices:  [[ 79 154 135 118  39]\n",
      " [ 89 148 279 128 109]\n",
      " [ 63  22  81  43  23]\n",
      " ...\n",
      " [283 150 166 169 168]\n",
      " [119 158 159 139 103]\n",
      " [ 48 140 220 201 163]]\n"
     ]
    }
   ],
   "source": [
    "# 對於每一個預測結果，找出分數最高的 top1 和 top5 的索引\n",
    "top1_indices = np.argmax(all_add, axis=-1)\n",
    "top5_indices = np.argsort(all_add, axis=-1)[:, -5:]\n",
    "\n",
    "# 輸出 top1 和 top5 的預測結果\n",
    "print(\"Top1 Predicted Indices: \", top1_indices)\n",
    "print(\"Top5 Predicted Indices: \", top5_indices)"
   ]
  },
  {
   "cell_type": "code",
   "execution_count": 47,
   "metadata": {},
   "outputs": [],
   "source": [
    "answer = np.full((11340, 5), \"\", dtype=object)\n",
    "for i  in range(len(top1_indices)):\n",
    "    for j in range(1,6):\n",
    "        num = top5_indices[i][j*(-1)] \n",
    "        indices = np.where(reshaped_array == num)\n",
    "        answer[i][j-1] = chars[int(indices[1])]  + chars[int(indices[0])] \n",
    "        "
   ]
  },
  {
   "cell_type": "code",
   "execution_count": 48,
   "metadata": {},
   "outputs": [
    {
     "data": {
      "text/plain": [
       "array([['bc', 'eg', 'ch', 'ci', 'de'],\n",
       "       ['of', 'og', 'no', 'ph', 'ne'],\n",
       "       ['eb', 'fc', 'fe', 'db', 'gd'],\n",
       "       ...,\n",
       "       ['qi', 'ri', 'oi', 'rh', 'ro'],\n",
       "       ['if', 'gh', 'hi', 'gi', 'fg'],\n",
       "       ['li', 'lk', 'll', 'hh', 'kc']], dtype='<U2')"
      ]
     },
     "execution_count": 48,
     "metadata": {},
     "output_type": "execute_result"
    }
   ],
   "source": [
    "answer = answer.astype('<U2')\n",
    "answer"
   ]
  },
  {
   "cell_type": "code",
   "execution_count": 49,
   "metadata": {},
   "outputs": [
    {
     "data": {
      "text/html": [
       "<div>\n",
       "<style scoped>\n",
       "    .dataframe tbody tr th:only-of-type {\n",
       "        vertical-align: middle;\n",
       "    }\n",
       "\n",
       "    .dataframe tbody tr th {\n",
       "        vertical-align: top;\n",
       "    }\n",
       "\n",
       "    .dataframe thead th {\n",
       "        text-align: right;\n",
       "    }\n",
       "</style>\n",
       "<table border=\"1\" class=\"dataframe\">\n",
       "  <thead>\n",
       "    <tr style=\"text-align: right;\">\n",
       "      <th></th>\n",
       "      <th>0</th>\n",
       "      <th>1</th>\n",
       "      <th>2</th>\n",
       "      <th>3</th>\n",
       "      <th>4</th>\n",
       "      <th>5</th>\n",
       "    </tr>\n",
       "  </thead>\n",
       "  <tbody>\n",
       "    <tr>\n",
       "      <th>32333</th>\n",
       "      <td>PSTPU0000000886_53</td>\n",
       "      <td>1</td>\n",
       "      <td>NaN</td>\n",
       "      <td>NaN</td>\n",
       "      <td>NaN</td>\n",
       "      <td>NaN</td>\n",
       "    </tr>\n",
       "    <tr>\n",
       "      <th>32334</th>\n",
       "      <td>PSTPU0000000886_11</td>\n",
       "      <td>3</td>\n",
       "      <td>NaN</td>\n",
       "      <td>NaN</td>\n",
       "      <td>NaN</td>\n",
       "      <td>NaN</td>\n",
       "    </tr>\n",
       "    <tr>\n",
       "      <th>32335</th>\n",
       "      <td>PSTPU0000000886_13</td>\n",
       "      <td>3</td>\n",
       "      <td>NaN</td>\n",
       "      <td>NaN</td>\n",
       "      <td>NaN</td>\n",
       "      <td>NaN</td>\n",
       "    </tr>\n",
       "    <tr>\n",
       "      <th>32336</th>\n",
       "      <td>KTPR0000000001</td>\n",
       "      <td>aa</td>\n",
       "      <td>bb</td>\n",
       "      <td>cc</td>\n",
       "      <td>dd</td>\n",
       "      <td>ee</td>\n",
       "    </tr>\n",
       "    <tr>\n",
       "      <th>32337</th>\n",
       "      <td>KTPR0000000002</td>\n",
       "      <td>aa</td>\n",
       "      <td>bb</td>\n",
       "      <td>cc</td>\n",
       "      <td>dd</td>\n",
       "      <td>ee</td>\n",
       "    </tr>\n",
       "    <tr>\n",
       "      <th>32338</th>\n",
       "      <td>KTPR0000000003</td>\n",
       "      <td>aa</td>\n",
       "      <td>bb</td>\n",
       "      <td>cc</td>\n",
       "      <td>dd</td>\n",
       "      <td>ee</td>\n",
       "    </tr>\n",
       "    <tr>\n",
       "      <th>32339</th>\n",
       "      <td>KTPR0000000004</td>\n",
       "      <td>aa</td>\n",
       "      <td>bb</td>\n",
       "      <td>cc</td>\n",
       "      <td>dd</td>\n",
       "      <td>ee</td>\n",
       "    </tr>\n",
       "    <tr>\n",
       "      <th>32340</th>\n",
       "      <td>KTPR0000000005</td>\n",
       "      <td>aa</td>\n",
       "      <td>bb</td>\n",
       "      <td>cc</td>\n",
       "      <td>dd</td>\n",
       "      <td>ee</td>\n",
       "    </tr>\n",
       "    <tr>\n",
       "      <th>32341</th>\n",
       "      <td>KTPR0000000006</td>\n",
       "      <td>aa</td>\n",
       "      <td>bb</td>\n",
       "      <td>cc</td>\n",
       "      <td>dd</td>\n",
       "      <td>ee</td>\n",
       "    </tr>\n",
       "    <tr>\n",
       "      <th>32342</th>\n",
       "      <td>KTPR0000000007</td>\n",
       "      <td>aa</td>\n",
       "      <td>bb</td>\n",
       "      <td>cc</td>\n",
       "      <td>dd</td>\n",
       "      <td>ee</td>\n",
       "    </tr>\n",
       "  </tbody>\n",
       "</table>\n",
       "</div>"
      ],
      "text/plain": [
       "                        0   1    2    3    4    5\n",
       "32333  PSTPU0000000886_53   1  NaN  NaN  NaN  NaN\n",
       "32334  PSTPU0000000886_11   3  NaN  NaN  NaN  NaN\n",
       "32335  PSTPU0000000886_13   3  NaN  NaN  NaN  NaN\n",
       "32336      KTPR0000000001  aa   bb   cc   dd   ee\n",
       "32337      KTPR0000000002  aa   bb   cc   dd   ee\n",
       "32338      KTPR0000000003  aa   bb   cc   dd   ee\n",
       "32339      KTPR0000000004  aa   bb   cc   dd   ee\n",
       "32340      KTPR0000000005  aa   bb   cc   dd   ee\n",
       "32341      KTPR0000000006  aa   bb   cc   dd   ee\n",
       "32342      KTPR0000000007  aa   bb   cc   dd   ee"
      ]
     },
     "execution_count": 49,
     "metadata": {},
     "output_type": "execute_result"
    }
   ],
   "source": [
    "submission_template[32333:32333 +10]"
   ]
  },
  {
   "cell_type": "code",
   "execution_count": 50,
   "metadata": {},
   "outputs": [],
   "source": [
    "for i in range(len(answer)):\n",
    "    for a in range(0,5):\n",
    "        submission_template.iloc[32336 +i][a+1] = answer[i][a]"
   ]
  },
  {
   "cell_type": "code",
   "execution_count": 51,
   "metadata": {},
   "outputs": [
    {
     "data": {
      "text/html": [
       "<div>\n",
       "<style scoped>\n",
       "    .dataframe tbody tr th:only-of-type {\n",
       "        vertical-align: middle;\n",
       "    }\n",
       "\n",
       "    .dataframe tbody tr th {\n",
       "        vertical-align: top;\n",
       "    }\n",
       "\n",
       "    .dataframe thead th {\n",
       "        text-align: right;\n",
       "    }\n",
       "</style>\n",
       "<table border=\"1\" class=\"dataframe\">\n",
       "  <thead>\n",
       "    <tr style=\"text-align: right;\">\n",
       "      <th></th>\n",
       "      <th>0</th>\n",
       "      <th>1</th>\n",
       "      <th>2</th>\n",
       "      <th>3</th>\n",
       "      <th>4</th>\n",
       "      <th>5</th>\n",
       "    </tr>\n",
       "  </thead>\n",
       "  <tbody>\n",
       "    <tr>\n",
       "      <th>32333</th>\n",
       "      <td>PSTPU0000000886_53</td>\n",
       "      <td>1</td>\n",
       "      <td>NaN</td>\n",
       "      <td>NaN</td>\n",
       "      <td>NaN</td>\n",
       "      <td>NaN</td>\n",
       "    </tr>\n",
       "    <tr>\n",
       "      <th>32334</th>\n",
       "      <td>PSTPU0000000886_11</td>\n",
       "      <td>3</td>\n",
       "      <td>NaN</td>\n",
       "      <td>NaN</td>\n",
       "      <td>NaN</td>\n",
       "      <td>NaN</td>\n",
       "    </tr>\n",
       "    <tr>\n",
       "      <th>32335</th>\n",
       "      <td>PSTPU0000000886_13</td>\n",
       "      <td>3</td>\n",
       "      <td>NaN</td>\n",
       "      <td>NaN</td>\n",
       "      <td>NaN</td>\n",
       "      <td>NaN</td>\n",
       "    </tr>\n",
       "    <tr>\n",
       "      <th>32336</th>\n",
       "      <td>KTPR0000000001</td>\n",
       "      <td>bc</td>\n",
       "      <td>eg</td>\n",
       "      <td>ch</td>\n",
       "      <td>ci</td>\n",
       "      <td>de</td>\n",
       "    </tr>\n",
       "    <tr>\n",
       "      <th>32337</th>\n",
       "      <td>KTPR0000000002</td>\n",
       "      <td>of</td>\n",
       "      <td>og</td>\n",
       "      <td>no</td>\n",
       "      <td>ph</td>\n",
       "      <td>ne</td>\n",
       "    </tr>\n",
       "    <tr>\n",
       "      <th>32338</th>\n",
       "      <td>KTPR0000000003</td>\n",
       "      <td>eb</td>\n",
       "      <td>fc</td>\n",
       "      <td>fe</td>\n",
       "      <td>db</td>\n",
       "      <td>gd</td>\n",
       "    </tr>\n",
       "    <tr>\n",
       "      <th>32339</th>\n",
       "      <td>KTPR0000000004</td>\n",
       "      <td>gl</td>\n",
       "      <td>im</td>\n",
       "      <td>gm</td>\n",
       "      <td>il</td>\n",
       "      <td>hk</td>\n",
       "    </tr>\n",
       "    <tr>\n",
       "      <th>32340</th>\n",
       "      <td>KTPR0000000005</td>\n",
       "      <td>fc</td>\n",
       "      <td>gc</td>\n",
       "      <td>ci</td>\n",
       "      <td>gb</td>\n",
       "      <td>bc</td>\n",
       "    </tr>\n",
       "    <tr>\n",
       "      <th>32341</th>\n",
       "      <td>KTPR0000000006</td>\n",
       "      <td>ap</td>\n",
       "      <td>bq</td>\n",
       "      <td>bp</td>\n",
       "      <td>aq</td>\n",
       "      <td>an</td>\n",
       "    </tr>\n",
       "    <tr>\n",
       "      <th>32342</th>\n",
       "      <td>KTPR0000000007</td>\n",
       "      <td>fc</td>\n",
       "      <td>gc</td>\n",
       "      <td>db</td>\n",
       "      <td>fb</td>\n",
       "      <td>ec</td>\n",
       "    </tr>\n",
       "  </tbody>\n",
       "</table>\n",
       "</div>"
      ],
      "text/plain": [
       "                        0   1    2    3    4    5\n",
       "32333  PSTPU0000000886_53   1  NaN  NaN  NaN  NaN\n",
       "32334  PSTPU0000000886_11   3  NaN  NaN  NaN  NaN\n",
       "32335  PSTPU0000000886_13   3  NaN  NaN  NaN  NaN\n",
       "32336      KTPR0000000001  bc   eg   ch   ci   de\n",
       "32337      KTPR0000000002  of   og   no   ph   ne\n",
       "32338      KTPR0000000003  eb   fc   fe   db   gd\n",
       "32339      KTPR0000000004  gl   im   gm   il   hk\n",
       "32340      KTPR0000000005  fc   gc   ci   gb   bc\n",
       "32341      KTPR0000000006  ap   bq   bp   aq   an\n",
       "32342      KTPR0000000007  fc   gc   db   fb   ec"
      ]
     },
     "execution_count": 51,
     "metadata": {},
     "output_type": "execute_result"
    }
   ],
   "source": [
    "submission_template[32333:32333 +10]"
   ]
  },
  {
   "cell_type": "code",
   "execution_count": null,
   "metadata": {},
   "outputs": [],
   "source": []
  },
  {
   "cell_type": "code",
   "execution_count": 52,
   "metadata": {},
   "outputs": [],
   "source": [
    "submission_template.to_csv('result/1128/_1128_reslut5.csv', index=False,header=None)"
   ]
  },
  {
   "cell_type": "code",
   "execution_count": null,
   "metadata": {},
   "outputs": [],
   "source": []
  }
 ],
 "metadata": {
  "kernelspec": {
   "display_name": "py310_tf212",
   "language": "python",
   "name": "python3"
  },
  "language_info": {
   "codemirror_mode": {
    "name": "ipython",
    "version": 3
   },
   "file_extension": ".py",
   "mimetype": "text/x-python",
   "name": "python",
   "nbconvert_exporter": "python",
   "pygments_lexer": "ipython3",
   "version": "3.10.11"
  },
  "orig_nbformat": 4
 },
 "nbformat": 4,
 "nbformat_minor": 2
}
